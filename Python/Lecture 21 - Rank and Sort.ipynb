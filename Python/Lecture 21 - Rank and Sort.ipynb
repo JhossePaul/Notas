{
 "metadata": {
  "name": "",
  "signature": "sha256:7398640faa4636be77ca12bbeb52bec847da8ee4e35edc96b71577a005787b1d"
 },
 "nbformat": 3,
 "nbformat_minor": 0,
 "worksheets": [
  {
   "cells": [
    {
     "cell_type": "code",
     "collapsed": false,
     "input": [
      "import numpy as np\n",
      "import pandas as pd\n",
      "from pandas import Series, DataFrame\n",
      "from string import ascii_lowercase\n",
      "from numpy.random import randn"
     ],
     "language": "python",
     "metadata": {},
     "outputs": [],
     "prompt_number": 9
    },
    {
     "cell_type": "code",
     "collapsed": false,
     "input": [
      "my_series = Series(randn(10), index = list(ascii_lowercase)[0:10])\n",
      "my_series"
     ],
     "language": "python",
     "metadata": {},
     "outputs": [
      {
       "metadata": {},
       "output_type": "pyout",
       "prompt_number": 11,
       "text": [
        "a   -0.540921\n",
        "b    1.248043\n",
        "c   -1.454645\n",
        "d    1.569619\n",
        "e   -1.885986\n",
        "f    1.074597\n",
        "g   -1.125679\n",
        "h   -0.274764\n",
        "i   -0.276099\n",
        "j    1.177969\n",
        "dtype: float64"
       ]
      }
     ],
     "prompt_number": 11
    },
    {
     "cell_type": "code",
     "collapsed": false,
     "input": [
      "my_series.sort()"
     ],
     "language": "python",
     "metadata": {},
     "outputs": [],
     "prompt_number": 12
    },
    {
     "cell_type": "code",
     "collapsed": false,
     "input": [
      "my_series"
     ],
     "language": "python",
     "metadata": {},
     "outputs": [
      {
       "metadata": {},
       "output_type": "pyout",
       "prompt_number": 13,
       "text": [
        "e   -1.885986\n",
        "c   -1.454645\n",
        "g   -1.125679\n",
        "a   -0.540921\n",
        "i   -0.276099\n",
        "h   -0.274764\n",
        "f    1.074597\n",
        "j    1.177969\n",
        "b    1.248043\n",
        "d    1.569619\n",
        "dtype: float64"
       ]
      }
     ],
     "prompt_number": 13
    },
    {
     "cell_type": "code",
     "collapsed": false,
     "input": [
      "my_series.rank()"
     ],
     "language": "python",
     "metadata": {},
     "outputs": [
      {
       "metadata": {},
       "output_type": "pyout",
       "prompt_number": 14,
       "text": [
        "e     1\n",
        "c     2\n",
        "g     3\n",
        "a     4\n",
        "i     5\n",
        "h     6\n",
        "f     7\n",
        "j     8\n",
        "b     9\n",
        "d    10\n",
        "dtype: float64"
       ]
      }
     ],
     "prompt_number": 14
    },
    {
     "cell_type": "code",
     "collapsed": false,
     "input": [
      "my_series.sort_index()"
     ],
     "language": "python",
     "metadata": {},
     "outputs": [
      {
       "metadata": {},
       "output_type": "pyout",
       "prompt_number": 15,
       "text": [
        "a   -0.540921\n",
        "b    1.248043\n",
        "c   -1.454645\n",
        "d    1.569619\n",
        "e   -1.885986\n",
        "f    1.074597\n",
        "g   -1.125679\n",
        "h   -0.274764\n",
        "i   -0.276099\n",
        "j    1.177969\n",
        "dtype: float64"
       ]
      }
     ],
     "prompt_number": 15
    },
    {
     "cell_type": "code",
     "collapsed": false,
     "input": [
      "my_series.sort_index().rank()"
     ],
     "language": "python",
     "metadata": {},
     "outputs": [
      {
       "metadata": {},
       "output_type": "pyout",
       "prompt_number": 17,
       "text": [
        "a     4\n",
        "b     9\n",
        "c     2\n",
        "d    10\n",
        "e     1\n",
        "f     7\n",
        "g     3\n",
        "h     6\n",
        "i     5\n",
        "j     8\n",
        "dtype: float64"
       ]
      }
     ],
     "prompt_number": 17
    },
    {
     "cell_type": "code",
     "collapsed": false,
     "input": [
      "my_series = Series(randn(10))"
     ],
     "language": "python",
     "metadata": {},
     "outputs": [],
     "prompt_number": 18
    },
    {
     "cell_type": "code",
     "collapsed": false,
     "input": [
      "my_series.rank()"
     ],
     "language": "python",
     "metadata": {},
     "outputs": [
      {
       "metadata": {},
       "output_type": "pyout",
       "prompt_number": 19,
       "text": [
        "0     6\n",
        "1     1\n",
        "2     9\n",
        "3     3\n",
        "4    10\n",
        "5     4\n",
        "6     5\n",
        "7     7\n",
        "8     8\n",
        "9     2\n",
        "dtype: float64"
       ]
      }
     ],
     "prompt_number": 19
    },
    {
     "cell_type": "code",
     "collapsed": false,
     "input": [],
     "language": "python",
     "metadata": {},
     "outputs": []
    }
   ],
   "metadata": {}
  }
 ]
}