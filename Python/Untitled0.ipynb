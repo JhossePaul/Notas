{
 "metadata": {
  "name": "",
  "signature": "sha256:72d627f6d03a95ea49e466a86d78ab976519d6bdabd266f5ce34ed23c126357c"
 },
 "nbformat": 3,
 "nbformat_minor": 0,
 "worksheets": []
}