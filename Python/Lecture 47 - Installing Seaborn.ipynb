{
 "metadata": {
  "name": "",
  "signature": "sha256:f97dfd4158734c9ae1868a68e223d4eb489677064ea8d1d51b8d24947c60c279"
 },
 "nbformat": 3,
 "nbformat_minor": 0,
 "worksheets": [
  {
   "cells": [
    {
     "cell_type": "code",
     "collapsed": false,
     "input": [
      "# Todo desde terminal\n"
     ],
     "language": "python",
     "metadata": {},
     "outputs": []
    }
   ],
   "metadata": {}
  }
 ]
}