{
 "metadata": {
  "name": "",
  "signature": "sha256:952b28222c31bb820c19b5fbacdaff2a313248e61515bb33a22c7cb8c2a98fc4"
 },
 "nbformat": 3,
 "nbformat_minor": 0,
 "worksheets": [
  {
   "cells": [
    {
     "cell_type": "code",
     "collapsed": false,
     "input": [
      "import numpy as np\n",
      "import pandas as pd\n",
      "from pandas import DataFrame, Series"
     ],
     "language": "python",
     "metadata": {},
     "outputs": [],
     "prompt_number": 1
    },
    {
     "cell_type": "code",
     "collapsed": false,
     "input": [
      "dframe = DataFrame({\"k1\": [\"X\", \"X\", \"Y\", \"Y\", \"Z\"],\n",
      "                    \"k2\": [\"alpha\", \"beta\", \"alpha\", \"beta\", \"alpha\"],\n",
      "                    \"dataset1\": np.random.randn(5),\n",
      "                    \"dataset2\": np.random.randn(5)})\n",
      "dframe"
     ],
     "language": "python",
     "metadata": {},
     "outputs": [
      {
       "html": [
        "<div style=\"max-height:1000px;max-width:1500px;overflow:auto;\">\n",
        "<table border=\"1\" class=\"dataframe\">\n",
        "  <thead>\n",
        "    <tr style=\"text-align: right;\">\n",
        "      <th></th>\n",
        "      <th>dataset1</th>\n",
        "      <th>dataset2</th>\n",
        "      <th>k1</th>\n",
        "      <th>k2</th>\n",
        "    </tr>\n",
        "  </thead>\n",
        "  <tbody>\n",
        "    <tr>\n",
        "      <th>0</th>\n",
        "      <td> 1.394060</td>\n",
        "      <td>-0.660790</td>\n",
        "      <td> X</td>\n",
        "      <td> alpha</td>\n",
        "    </tr>\n",
        "    <tr>\n",
        "      <th>1</th>\n",
        "      <td> 0.118659</td>\n",
        "      <td> 0.748474</td>\n",
        "      <td> X</td>\n",
        "      <td>  beta</td>\n",
        "    </tr>\n",
        "    <tr>\n",
        "      <th>2</th>\n",
        "      <td> 0.348393</td>\n",
        "      <td> 0.192532</td>\n",
        "      <td> Y</td>\n",
        "      <td> alpha</td>\n",
        "    </tr>\n",
        "    <tr>\n",
        "      <th>3</th>\n",
        "      <td> 1.384815</td>\n",
        "      <td>-0.423752</td>\n",
        "      <td> Y</td>\n",
        "      <td>  beta</td>\n",
        "    </tr>\n",
        "    <tr>\n",
        "      <th>4</th>\n",
        "      <td> 0.113961</td>\n",
        "      <td>-0.287470</td>\n",
        "      <td> Z</td>\n",
        "      <td> alpha</td>\n",
        "    </tr>\n",
        "  </tbody>\n",
        "</table>\n",
        "</div>"
       ],
       "metadata": {},
       "output_type": "pyout",
       "prompt_number": 3,
       "text": [
        "   dataset1  dataset2 k1     k2\n",
        "0  1.394060 -0.660790  X  alpha\n",
        "1  0.118659  0.748474  X   beta\n",
        "2  0.348393  0.192532  Y  alpha\n",
        "3  1.384815 -0.423752  Y   beta\n",
        "4  0.113961 -0.287470  Z  alpha"
       ]
      }
     ],
     "prompt_number": 3
    },
    {
     "cell_type": "code",
     "collapsed": false,
     "input": [
      "group1 = dframe[\"dataset1\"].groupby(dframe[\"k1\"])"
     ],
     "language": "python",
     "metadata": {},
     "outputs": [
      {
       "metadata": {},
       "output_type": "pyout",
       "prompt_number": 6,
       "text": [
        "<pandas.core.groupby.SeriesGroupBy object at 0x7fc223ac8290>"
       ]
      }
     ],
     "prompt_number": 6
    },
    {
     "cell_type": "code",
     "collapsed": false,
     "input": [
      "group1.mean()"
     ],
     "language": "python",
     "metadata": {},
     "outputs": [
      {
       "metadata": {},
       "output_type": "pyout",
       "prompt_number": 7,
       "text": [
        "k1\n",
        "X     0.756360\n",
        "Y     0.866604\n",
        "Z     0.113961\n",
        "Name: dataset1, dtype: float64"
       ]
      }
     ],
     "prompt_number": 7
    },
    {
     "cell_type": "code",
     "collapsed": false,
     "input": [
      "cities = np.array([\"NY\", \"LA\", \"LA\", \"NY\", \"NY\"])\n",
      "month = np.array([\"JAN\", \"FEB\", \"JAN\", \"FEB\", \"JAN\"])"
     ],
     "language": "python",
     "metadata": {},
     "outputs": [],
     "prompt_number": 8
    },
    {
     "cell_type": "code",
     "collapsed": false,
     "input": [
      "dframe[\"dataset1\"].groupby([cities, month]).mean()"
     ],
     "language": "python",
     "metadata": {},
     "outputs": [
      {
       "metadata": {},
       "output_type": "pyout",
       "prompt_number": 10,
       "text": [
        "LA  FEB    0.118659\n",
        "    JAN    0.348393\n",
        "NY  FEB    1.384815\n",
        "    JAN    0.754010\n",
        "Name: dataset1, dtype: float64"
       ]
      }
     ],
     "prompt_number": 10
    },
    {
     "cell_type": "code",
     "collapsed": false,
     "input": [
      "dframe.groupby(\"k1\").mean()"
     ],
     "language": "python",
     "metadata": {},
     "outputs": [
      {
       "html": [
        "<div style=\"max-height:1000px;max-width:1500px;overflow:auto;\">\n",
        "<table border=\"1\" class=\"dataframe\">\n",
        "  <thead>\n",
        "    <tr style=\"text-align: right;\">\n",
        "      <th></th>\n",
        "      <th>dataset1</th>\n",
        "      <th>dataset2</th>\n",
        "    </tr>\n",
        "    <tr>\n",
        "      <th>k1</th>\n",
        "      <th></th>\n",
        "      <th></th>\n",
        "    </tr>\n",
        "  </thead>\n",
        "  <tbody>\n",
        "    <tr>\n",
        "      <th>X</th>\n",
        "      <td> 0.756360</td>\n",
        "      <td> 0.043842</td>\n",
        "    </tr>\n",
        "    <tr>\n",
        "      <th>Y</th>\n",
        "      <td> 0.866604</td>\n",
        "      <td>-0.115610</td>\n",
        "    </tr>\n",
        "    <tr>\n",
        "      <th>Z</th>\n",
        "      <td> 0.113961</td>\n",
        "      <td>-0.287470</td>\n",
        "    </tr>\n",
        "  </tbody>\n",
        "</table>\n",
        "</div>"
       ],
       "metadata": {},
       "output_type": "pyout",
       "prompt_number": 11,
       "text": [
        "    dataset1  dataset2\n",
        "k1                    \n",
        "X   0.756360  0.043842\n",
        "Y   0.866604 -0.115610\n",
        "Z   0.113961 -0.287470"
       ]
      }
     ],
     "prompt_number": 11
    },
    {
     "cell_type": "code",
     "collapsed": false,
     "input": [
      "dframe.groupby([\"k1\", \"k2\"]).mean()"
     ],
     "language": "python",
     "metadata": {},
     "outputs": [
      {
       "html": [
        "<div style=\"max-height:1000px;max-width:1500px;overflow:auto;\">\n",
        "<table border=\"1\" class=\"dataframe\">\n",
        "  <thead>\n",
        "    <tr style=\"text-align: right;\">\n",
        "      <th></th>\n",
        "      <th></th>\n",
        "      <th>dataset1</th>\n",
        "      <th>dataset2</th>\n",
        "    </tr>\n",
        "    <tr>\n",
        "      <th>k1</th>\n",
        "      <th>k2</th>\n",
        "      <th></th>\n",
        "      <th></th>\n",
        "    </tr>\n",
        "  </thead>\n",
        "  <tbody>\n",
        "    <tr>\n",
        "      <th rowspan=\"2\" valign=\"top\">X</th>\n",
        "      <th>alpha</th>\n",
        "      <td> 1.394060</td>\n",
        "      <td>-0.660790</td>\n",
        "    </tr>\n",
        "    <tr>\n",
        "      <th>beta</th>\n",
        "      <td> 0.118659</td>\n",
        "      <td> 0.748474</td>\n",
        "    </tr>\n",
        "    <tr>\n",
        "      <th rowspan=\"2\" valign=\"top\">Y</th>\n",
        "      <th>alpha</th>\n",
        "      <td> 0.348393</td>\n",
        "      <td> 0.192532</td>\n",
        "    </tr>\n",
        "    <tr>\n",
        "      <th>beta</th>\n",
        "      <td> 1.384815</td>\n",
        "      <td>-0.423752</td>\n",
        "    </tr>\n",
        "    <tr>\n",
        "      <th>Z</th>\n",
        "      <th>alpha</th>\n",
        "      <td> 0.113961</td>\n",
        "      <td>-0.287470</td>\n",
        "    </tr>\n",
        "  </tbody>\n",
        "</table>\n",
        "</div>"
       ],
       "metadata": {},
       "output_type": "pyout",
       "prompt_number": 12,
       "text": [
        "          dataset1  dataset2\n",
        "k1 k2                       \n",
        "X  alpha  1.394060 -0.660790\n",
        "   beta   0.118659  0.748474\n",
        "Y  alpha  0.348393  0.192532\n",
        "   beta   1.384815 -0.423752\n",
        "Z  alpha  0.113961 -0.287470"
       ]
      }
     ],
     "prompt_number": 12
    },
    {
     "cell_type": "code",
     "collapsed": false,
     "input": [
      "dframe.groupby([\"k1\"]).size()"
     ],
     "language": "python",
     "metadata": {},
     "outputs": [
      {
       "metadata": {},
       "output_type": "pyout",
       "prompt_number": 13,
       "text": [
        "k1\n",
        "X     2\n",
        "Y     2\n",
        "Z     1\n",
        "dtype: int64"
       ]
      }
     ],
     "prompt_number": 13
    },
    {
     "cell_type": "code",
     "collapsed": false,
     "input": [
      "for name, group in dframe.groupby(\"k1\"):\n",
      "    print \"This is the %s group\" %name\n",
      "    print group\n",
      "    print \"\\n\""
     ],
     "language": "python",
     "metadata": {},
     "outputs": [
      {
       "output_type": "stream",
       "stream": "stdout",
       "text": [
        "This is the X group\n",
        "   dataset1  dataset2 k1     k2\n",
        "0  1.394060 -0.660790  X  alpha\n",
        "1  0.118659  0.748474  X   beta\n",
        "\n",
        "\n",
        "This is the Y group\n",
        "   dataset1  dataset2 k1     k2\n",
        "2  0.348393  0.192532  Y  alpha\n",
        "3  1.384815 -0.423752  Y   beta\n",
        "\n",
        "\n",
        "This is the Z group\n",
        "   dataset1  dataset2 k1     k2\n",
        "4  0.113961  -0.28747  Z  alpha\n",
        "\n",
        "\n"
       ]
      }
     ],
     "prompt_number": 14
    },
    {
     "cell_type": "code",
     "collapsed": false,
     "input": [
      "for (k1, k2), group in dframe.groupby([\"k1\", \"k2\"]):\n",
      "    print \"Key 1 = %s Key2 %s\" %(k1, k2)\n",
      "    print group\n",
      "    print \"\\n\""
     ],
     "language": "python",
     "metadata": {},
     "outputs": [
      {
       "output_type": "stream",
       "stream": "stdout",
       "text": [
        "Key 1 = X Key2 alpha\n",
        "   dataset1  dataset2 k1     k2\n",
        "0   1.39406  -0.66079  X  alpha\n",
        "\n",
        "\n",
        "Key 1 = X Key2 beta\n",
        "   dataset1  dataset2 k1    k2\n",
        "1  0.118659  0.748474  X  beta\n",
        "\n",
        "\n",
        "Key 1 = Y Key2 alpha\n",
        "   dataset1  dataset2 k1     k2\n",
        "2  0.348393  0.192532  Y  alpha\n",
        "\n",
        "\n",
        "Key 1 = Y Key2 beta\n",
        "   dataset1  dataset2 k1    k2\n",
        "3  1.384815 -0.423752  Y  beta\n",
        "\n",
        "\n",
        "Key 1 = Z Key2 alpha\n",
        "   dataset1  dataset2 k1     k2\n",
        "4  0.113961  -0.28747  Z  alpha\n",
        "\n",
        "\n"
       ]
      }
     ],
     "prompt_number": 18
    },
    {
     "cell_type": "code",
     "collapsed": false,
     "input": [
      "group_dict = dict(list(dframe.groupby(\"k1\")))"
     ],
     "language": "python",
     "metadata": {},
     "outputs": [],
     "prompt_number": 19
    },
    {
     "cell_type": "code",
     "collapsed": false,
     "input": [
      "group_dict[\"X\"]"
     ],
     "language": "python",
     "metadata": {},
     "outputs": [
      {
       "html": [
        "<div style=\"max-height:1000px;max-width:1500px;overflow:auto;\">\n",
        "<table border=\"1\" class=\"dataframe\">\n",
        "  <thead>\n",
        "    <tr style=\"text-align: right;\">\n",
        "      <th></th>\n",
        "      <th>dataset1</th>\n",
        "      <th>dataset2</th>\n",
        "      <th>k1</th>\n",
        "      <th>k2</th>\n",
        "    </tr>\n",
        "  </thead>\n",
        "  <tbody>\n",
        "    <tr>\n",
        "      <th>0</th>\n",
        "      <td> 1.394060</td>\n",
        "      <td>-0.660790</td>\n",
        "      <td> X</td>\n",
        "      <td> alpha</td>\n",
        "    </tr>\n",
        "    <tr>\n",
        "      <th>1</th>\n",
        "      <td> 0.118659</td>\n",
        "      <td> 0.748474</td>\n",
        "      <td> X</td>\n",
        "      <td>  beta</td>\n",
        "    </tr>\n",
        "  </tbody>\n",
        "</table>\n",
        "</div>"
       ],
       "metadata": {},
       "output_type": "pyout",
       "prompt_number": 20,
       "text": [
        "   dataset1  dataset2 k1     k2\n",
        "0  1.394060 -0.660790  X  alpha\n",
        "1  0.118659  0.748474  X   beta"
       ]
      }
     ],
     "prompt_number": 20
    },
    {
     "cell_type": "code",
     "collapsed": false,
     "input": [
      "group_dict_axis1 = dict(list(dframe.groupby(dframe.dtypes, axis = 1)))"
     ],
     "language": "python",
     "metadata": {},
     "outputs": [],
     "prompt_number": 21
    },
    {
     "cell_type": "code",
     "collapsed": false,
     "input": [
      "group_dict_axis1"
     ],
     "language": "python",
     "metadata": {},
     "outputs": [
      {
       "metadata": {},
       "output_type": "pyout",
       "prompt_number": 22,
       "text": [
        "{dtype('float64'):    dataset1  dataset2\n",
        " 0  1.394060 -0.660790\n",
        " 1  0.118659  0.748474\n",
        " 2  0.348393  0.192532\n",
        " 3  1.384815 -0.423752\n",
        " 4  0.113961 -0.287470, dtype('O'):   k1     k2\n",
        " 0  X  alpha\n",
        " 1  X   beta\n",
        " 2  Y  alpha\n",
        " 3  Y   beta\n",
        " 4  Z  alpha}"
       ]
      }
     ],
     "prompt_number": 22
    },
    {
     "cell_type": "code",
     "collapsed": false,
     "input": [
      "dataset2_group = dframe.groupby([\"k1\", \"k2\"])[\"dataset2\"]"
     ],
     "language": "python",
     "metadata": {},
     "outputs": [],
     "prompt_number": 23
    },
    {
     "cell_type": "code",
     "collapsed": false,
     "input": [
      "dataset2_group.mean()"
     ],
     "language": "python",
     "metadata": {},
     "outputs": [
      {
       "metadata": {},
       "output_type": "pyout",
       "prompt_number": 24,
       "text": [
        "k1  k2   \n",
        "X   alpha   -0.660790\n",
        "    beta     0.748474\n",
        "Y   alpha    0.192532\n",
        "    beta    -0.423752\n",
        "Z   alpha   -0.287470\n",
        "Name: dataset2, dtype: float64"
       ]
      }
     ],
     "prompt_number": 24
    },
    {
     "cell_type": "code",
     "collapsed": false,
     "input": [],
     "language": "python",
     "metadata": {},
     "outputs": []
    }
   ],
   "metadata": {}
  }
 ]
}