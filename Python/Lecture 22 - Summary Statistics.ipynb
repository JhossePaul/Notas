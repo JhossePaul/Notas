{
 "metadata": {
  "name": "",
  "signature": "sha256:60c0059a3829628be9110c0c53693146b6905a17f4f90b8e0e7df4f725b4837f"
 },
 "nbformat": 3,
 "nbformat_minor": 0,
 "worksheets": [
  {
   "cells": [
    {
     "cell_type": "code",
     "collapsed": false,
     "input": [
      "import numpy as np\n",
      "import pandas as pd\n",
      "from pandas import Series, DataFrame\n",
      "import pandas.io.data as pdweb\n",
      "from IPython.display import YouTubeVideo\n",
      "import datetime\n",
      "from string import ascii_lowercase"
     ],
     "language": "python",
     "metadata": {},
     "outputs": [],
     "prompt_number": 12
    },
    {
     "cell_type": "code",
     "collapsed": false,
     "input": [
      "my_arrange = np.array([[1, 2, np.nan], [np.nan, 3, 4]])\n",
      "my_arrange"
     ],
     "language": "python",
     "metadata": {},
     "outputs": [
      {
       "metadata": {},
       "output_type": "pyout",
       "prompt_number": 2,
       "text": [
        "array([[  1.,   2.,  nan],\n",
        "       [ nan,   3.,   4.]])"
       ]
      }
     ],
     "prompt_number": 2
    },
    {
     "cell_type": "code",
     "collapsed": false,
     "input": [
      "dframe = DataFrame(my_arrange, index = list(\"AB\"), columns = [\"One\", \"Two\", \"Three\"])"
     ],
     "language": "python",
     "metadata": {},
     "outputs": [],
     "prompt_number": 3
    },
    {
     "cell_type": "code",
     "collapsed": false,
     "input": [
      "dframe.sum()"
     ],
     "language": "python",
     "metadata": {},
     "outputs": [
      {
       "metadata": {},
       "output_type": "pyout",
       "prompt_number": 4,
       "text": [
        "One      1\n",
        "Two      5\n",
        "Three    4\n",
        "dtype: float64"
       ]
      }
     ],
     "prompt_number": 4
    },
    {
     "cell_type": "code",
     "collapsed": false,
     "input": [
      "# Para sumer filas hay que indicar la dimensi\u00f3n\n",
      "dframe.sum(axis = 1)"
     ],
     "language": "python",
     "metadata": {},
     "outputs": [
      {
       "metadata": {},
       "output_type": "pyout",
       "prompt_number": 5,
       "text": [
        "A    3\n",
        "B    7\n",
        "dtype: float64"
       ]
      }
     ],
     "prompt_number": 5
    },
    {
     "cell_type": "code",
     "collapsed": false,
     "input": [
      "dframe.min()"
     ],
     "language": "python",
     "metadata": {},
     "outputs": [
      {
       "metadata": {},
       "output_type": "pyout",
       "prompt_number": 6,
       "text": [
        "One      1\n",
        "Two      2\n",
        "Three    4\n",
        "dtype: float64"
       ]
      }
     ],
     "prompt_number": 6
    },
    {
     "cell_type": "code",
     "collapsed": false,
     "input": [
      "dframe.idxmin()"
     ],
     "language": "python",
     "metadata": {},
     "outputs": [
      {
       "metadata": {},
       "output_type": "pyout",
       "prompt_number": 7,
       "text": [
        "One      A\n",
        "Two      A\n",
        "Three    B\n",
        "dtype: object"
       ]
      }
     ],
     "prompt_number": 7
    },
    {
     "cell_type": "code",
     "collapsed": false,
     "input": [
      "dframe.idxmax()"
     ],
     "language": "python",
     "metadata": {},
     "outputs": [
      {
       "metadata": {},
       "output_type": "pyout",
       "prompt_number": 8,
       "text": [
        "One      A\n",
        "Two      B\n",
        "Three    B\n",
        "dtype: object"
       ]
      }
     ],
     "prompt_number": 8
    },
    {
     "cell_type": "code",
     "collapsed": true,
     "input": [
      "dframe.cumsum()"
     ],
     "language": "python",
     "metadata": {},
     "outputs": [
      {
       "html": [
        "<div style=\"max-height:1000px;max-width:1500px;overflow:auto;\">\n",
        "<table border=\"1\" class=\"dataframe\">\n",
        "  <thead>\n",
        "    <tr style=\"text-align: right;\">\n",
        "      <th></th>\n",
        "      <th>One</th>\n",
        "      <th>Two</th>\n",
        "      <th>Three</th>\n",
        "    </tr>\n",
        "  </thead>\n",
        "  <tbody>\n",
        "    <tr>\n",
        "      <th>A</th>\n",
        "      <td>  1</td>\n",
        "      <td> 2</td>\n",
        "      <td>NaN</td>\n",
        "    </tr>\n",
        "    <tr>\n",
        "      <th>B</th>\n",
        "      <td>NaN</td>\n",
        "      <td> 5</td>\n",
        "      <td>  4</td>\n",
        "    </tr>\n",
        "  </tbody>\n",
        "</table>\n",
        "</div>"
       ],
       "metadata": {},
       "output_type": "pyout",
       "prompt_number": 9,
       "text": [
        "   One  Two  Three\n",
        "A    1    2    NaN\n",
        "B  NaN    5      4"
       ]
      }
     ],
     "prompt_number": 9
    },
    {
     "cell_type": "code",
     "collapsed": false,
     "input": [
      "# Equivalente a summary en R\n",
      "dframe.describe()"
     ],
     "language": "python",
     "metadata": {},
     "outputs": [
      {
       "html": [
        "<div style=\"max-height:1000px;max-width:1500px;overflow:auto;\">\n",
        "<table border=\"1\" class=\"dataframe\">\n",
        "  <thead>\n",
        "    <tr style=\"text-align: right;\">\n",
        "      <th></th>\n",
        "      <th>One</th>\n",
        "      <th>Two</th>\n",
        "      <th>Three</th>\n",
        "    </tr>\n",
        "  </thead>\n",
        "  <tbody>\n",
        "    <tr>\n",
        "      <th>count</th>\n",
        "      <td>  1</td>\n",
        "      <td> 2.000000</td>\n",
        "      <td>  1</td>\n",
        "    </tr>\n",
        "    <tr>\n",
        "      <th>mean</th>\n",
        "      <td>  1</td>\n",
        "      <td> 2.500000</td>\n",
        "      <td>  4</td>\n",
        "    </tr>\n",
        "    <tr>\n",
        "      <th>std</th>\n",
        "      <td>NaN</td>\n",
        "      <td> 0.707107</td>\n",
        "      <td>NaN</td>\n",
        "    </tr>\n",
        "    <tr>\n",
        "      <th>min</th>\n",
        "      <td>  1</td>\n",
        "      <td> 2.000000</td>\n",
        "      <td>  4</td>\n",
        "    </tr>\n",
        "    <tr>\n",
        "      <th>25%</th>\n",
        "      <td>  1</td>\n",
        "      <td> 2.250000</td>\n",
        "      <td>  4</td>\n",
        "    </tr>\n",
        "    <tr>\n",
        "      <th>50%</th>\n",
        "      <td>  1</td>\n",
        "      <td> 2.500000</td>\n",
        "      <td>  4</td>\n",
        "    </tr>\n",
        "    <tr>\n",
        "      <th>75%</th>\n",
        "      <td>  1</td>\n",
        "      <td> 2.750000</td>\n",
        "      <td>  4</td>\n",
        "    </tr>\n",
        "    <tr>\n",
        "      <th>max</th>\n",
        "      <td>  1</td>\n",
        "      <td> 3.000000</td>\n",
        "      <td>  4</td>\n",
        "    </tr>\n",
        "  </tbody>\n",
        "</table>\n",
        "</div>"
       ],
       "metadata": {},
       "output_type": "pyout",
       "prompt_number": 10,
       "text": [
        "       One       Two  Three\n",
        "count    1  2.000000      1\n",
        "mean     1  2.500000      4\n",
        "std    NaN  0.707107    NaN\n",
        "min      1  2.000000      4\n",
        "25%      1  2.250000      4\n",
        "50%      1  2.500000      4\n",
        "75%      1  2.750000      4\n",
        "max      1  3.000000      4"
       ]
      }
     ],
     "prompt_number": 10
    },
    {
     "cell_type": "code",
     "collapsed": false,
     "input": [
      "# Video para entender la covarianza\n",
      "YouTubeVideo(\"xGbpuFNR1ME\")"
     ],
     "language": "python",
     "metadata": {},
     "outputs": [
      {
       "html": [
        "\n",
        "        <iframe\n",
        "            width=\"400\"\n",
        "            height=300\"\n",
        "            src=\"https://www.youtube.com/embed/xGbpuFNR1ME\"\n",
        "            frameborder=\"0\"\n",
        "            allowfullscreen\n",
        "        ></iframe>\n",
        "        "
       ],
       "metadata": {},
       "output_type": "pyout",
       "prompt_number": 11,
       "text": [
        "<IPython.lib.display.YouTubeVideo at 0x7fe18f21df10>"
       ]
      }
     ],
     "prompt_number": 11
    },
    {
     "cell_type": "code",
     "collapsed": false,
     "input": [
      "# Video para entender la correlaci\u00f3n\n",
      "YouTubeVideo(\"4EXNedimDMs\")"
     ],
     "language": "python",
     "metadata": {},
     "outputs": [
      {
       "html": [
        "\n",
        "        <iframe\n",
        "            width=\"400\"\n",
        "            height=300\"\n",
        "            src=\"https://www.youtube.com/embed/4EXNedimDMs\"\n",
        "            frameborder=\"0\"\n",
        "            allowfullscreen\n",
        "        ></iframe>\n",
        "        "
       ],
       "metadata": {},
       "output_type": "pyout",
       "prompt_number": 12,
       "text": [
        "<IPython.lib.display.YouTubeVideo at 0x7fe18f21d510>"
       ]
      }
     ],
     "prompt_number": 12
    },
    {
     "cell_type": "code",
     "collapsed": false,
     "input": [
      "prices = pdweb.get_data_yahoo(['PAH3.DE', \"VOW.DE\", \"NSU.DE\"], \n",
      "                               start=datetime.datetime(2015, 1, 1), \n",
      "                               end=datetime.datetime(2015, 10, 1))['Adj Close']\n",
      "prices.head()"
     ],
     "language": "python",
     "metadata": {},
     "outputs": [
      {
       "html": [
        "<div style=\"max-height:1000px;max-width:1500px;overflow:auto;\">\n",
        "<table border=\"1\" class=\"dataframe\">\n",
        "  <thead>\n",
        "    <tr style=\"text-align: right;\">\n",
        "      <th></th>\n",
        "      <th>NSU.DE</th>\n",
        "      <th>PAH3.DE</th>\n",
        "      <th>VOW.DE</th>\n",
        "    </tr>\n",
        "    <tr>\n",
        "      <th>Date</th>\n",
        "      <th></th>\n",
        "      <th></th>\n",
        "      <th></th>\n",
        "    </tr>\n",
        "  </thead>\n",
        "  <tbody>\n",
        "    <tr>\n",
        "      <th>2015-01-01</th>\n",
        "      <td> 646.472</td>\n",
        "      <td>     NaN</td>\n",
        "      <td> 176.26</td>\n",
        "    </tr>\n",
        "    <tr>\n",
        "      <th>2015-01-02</th>\n",
        "      <td> 646.472</td>\n",
        "      <td> 64.4836</td>\n",
        "      <td> 174.16</td>\n",
        "    </tr>\n",
        "    <tr>\n",
        "      <th>2015-01-05</th>\n",
        "      <td> 648.511</td>\n",
        "      <td> 62.9424</td>\n",
        "      <td> 168.87</td>\n",
        "    </tr>\n",
        "    <tr>\n",
        "      <th>2015-01-06</th>\n",
        "      <td> 646.621</td>\n",
        "      <td> 63.8983</td>\n",
        "      <td> 170.24</td>\n",
        "    </tr>\n",
        "    <tr>\n",
        "      <th>2015-01-07</th>\n",
        "      <td> 649.158</td>\n",
        "      <td> 64.1324</td>\n",
        "      <td> 171.07</td>\n",
        "    </tr>\n",
        "  </tbody>\n",
        "</table>\n",
        "</div>"
       ],
       "metadata": {},
       "output_type": "pyout",
       "prompt_number": 5,
       "text": [
        "             NSU.DE  PAH3.DE  VOW.DE\n",
        "Date                                \n",
        "2015-01-01  646.472      NaN  176.26\n",
        "2015-01-02  646.472  64.4836  174.16\n",
        "2015-01-05  648.511  62.9424  168.87\n",
        "2015-01-06  646.621  63.8983  170.24\n",
        "2015-01-07  649.158  64.1324  171.07"
       ]
      }
     ],
     "prompt_number": 5
    },
    {
     "cell_type": "code",
     "collapsed": false,
     "input": [
      "volume = pdweb.get_data_yahoo(['PAH3.DE', \"VOW.DE\", \"NSU.DE\"], \n",
      "                              start  = datetime.datetime(2015, 1, 1),\n",
      "                              end = datetime.datetime(2015, 10, 5))[\"Volume\"]\n",
      "volume.head()"
     ],
     "language": "python",
     "metadata": {},
     "outputs": [
      {
       "html": [
        "<div style=\"max-height:1000px;max-width:1500px;overflow:auto;\">\n",
        "<table border=\"1\" class=\"dataframe\">\n",
        "  <thead>\n",
        "    <tr style=\"text-align: right;\">\n",
        "      <th></th>\n",
        "      <th>NSU.DE</th>\n",
        "      <th>PAH3.DE</th>\n",
        "      <th>VOW.DE</th>\n",
        "    </tr>\n",
        "    <tr>\n",
        "      <th>Date</th>\n",
        "      <th></th>\n",
        "      <th></th>\n",
        "      <th></th>\n",
        "    </tr>\n",
        "  </thead>\n",
        "  <tbody>\n",
        "    <tr>\n",
        "      <th>2015-01-01</th>\n",
        "      <td>   0</td>\n",
        "      <td>    NaN</td>\n",
        "      <td>     0</td>\n",
        "    </tr>\n",
        "    <tr>\n",
        "      <th>2015-01-02</th>\n",
        "      <td> 100</td>\n",
        "      <td> 245600</td>\n",
        "      <td> 40800</td>\n",
        "    </tr>\n",
        "    <tr>\n",
        "      <th>2015-01-05</th>\n",
        "      <td> 200</td>\n",
        "      <td> 329400</td>\n",
        "      <td> 70100</td>\n",
        "    </tr>\n",
        "    <tr>\n",
        "      <th>2015-01-06</th>\n",
        "      <td> 200</td>\n",
        "      <td> 506600</td>\n",
        "      <td> 45300</td>\n",
        "    </tr>\n",
        "    <tr>\n",
        "      <th>2015-01-07</th>\n",
        "      <td>   0</td>\n",
        "      <td> 273700</td>\n",
        "      <td> 44800</td>\n",
        "    </tr>\n",
        "  </tbody>\n",
        "</table>\n",
        "</div>"
       ],
       "metadata": {},
       "output_type": "pyout",
       "prompt_number": 6,
       "text": [
        "            NSU.DE  PAH3.DE  VOW.DE\n",
        "Date                               \n",
        "2015-01-01       0      NaN       0\n",
        "2015-01-02     100   245600   40800\n",
        "2015-01-05     200   329400   70100\n",
        "2015-01-06     200   506600   45300\n",
        "2015-01-07       0   273700   44800"
       ]
      }
     ],
     "prompt_number": 6
    },
    {
     "cell_type": "code",
     "collapsed": false,
     "input": [
      "rets = prices.pct_change()\n",
      "rets.head()"
     ],
     "language": "python",
     "metadata": {},
     "outputs": [
      {
       "html": [
        "<div style=\"max-height:1000px;max-width:1500px;overflow:auto;\">\n",
        "<table border=\"1\" class=\"dataframe\">\n",
        "  <thead>\n",
        "    <tr style=\"text-align: right;\">\n",
        "      <th></th>\n",
        "      <th>NSU.DE</th>\n",
        "      <th>PAH3.DE</th>\n",
        "      <th>VOW.DE</th>\n",
        "    </tr>\n",
        "    <tr>\n",
        "      <th>Date</th>\n",
        "      <th></th>\n",
        "      <th></th>\n",
        "      <th></th>\n",
        "    </tr>\n",
        "  </thead>\n",
        "  <tbody>\n",
        "    <tr>\n",
        "      <th>2015-01-01</th>\n",
        "      <td>      NaN</td>\n",
        "      <td>      NaN</td>\n",
        "      <td>      NaN</td>\n",
        "    </tr>\n",
        "    <tr>\n",
        "      <th>2015-01-02</th>\n",
        "      <td> 0.000000</td>\n",
        "      <td>      NaN</td>\n",
        "      <td>-0.011914</td>\n",
        "    </tr>\n",
        "    <tr>\n",
        "      <th>2015-01-05</th>\n",
        "      <td> 0.003154</td>\n",
        "      <td>-0.023901</td>\n",
        "      <td>-0.030374</td>\n",
        "    </tr>\n",
        "    <tr>\n",
        "      <th>2015-01-06</th>\n",
        "      <td>-0.002914</td>\n",
        "      <td> 0.015187</td>\n",
        "      <td> 0.008113</td>\n",
        "    </tr>\n",
        "    <tr>\n",
        "      <th>2015-01-07</th>\n",
        "      <td> 0.003923</td>\n",
        "      <td> 0.003664</td>\n",
        "      <td> 0.004875</td>\n",
        "    </tr>\n",
        "  </tbody>\n",
        "</table>\n",
        "</div>"
       ],
       "metadata": {},
       "output_type": "pyout",
       "prompt_number": 7,
       "text": [
        "              NSU.DE   PAH3.DE    VOW.DE\n",
        "Date                                    \n",
        "2015-01-01       NaN       NaN       NaN\n",
        "2015-01-02  0.000000       NaN -0.011914\n",
        "2015-01-05  0.003154 -0.023901 -0.030374\n",
        "2015-01-06 -0.002914  0.015187  0.008113\n",
        "2015-01-07  0.003923  0.003664  0.004875"
       ]
      }
     ],
     "prompt_number": 7
    },
    {
     "cell_type": "code",
     "collapsed": false,
     "input": [
      "corr = rets.corr()"
     ],
     "language": "python",
     "metadata": {},
     "outputs": [],
     "prompt_number": 8
    },
    {
     "cell_type": "code",
     "collapsed": false,
     "input": [
      "%matplotlib inline\n",
      "prices.plot()"
     ],
     "language": "python",
     "metadata": {},
     "outputs": [
      {
       "metadata": {},
       "output_type": "pyout",
       "prompt_number": 9,
       "text": [
        "<matplotlib.axes._subplots.AxesSubplot at 0x7f12c02e2750>"
       ]
      },
      {
       "metadata": {},
       "output_type": "display_data",
       "png": "[encoded data removed]",
       "text": [
        "<matplotlib.figure.Figure at 0x7f12c02e2150>"
       ]
      }
     ],
     "prompt_number": 9
    },
    {
     "cell_type": "code",
     "collapsed": false,
     "input": [
      "import seaborn as sns\n",
      "import matplotlib.pyplot as plt"
     ],
     "language": "python",
     "metadata": {},
     "outputs": [],
     "prompt_number": 10
    },
    {
     "cell_type": "code",
     "collapsed": false,
     "input": [
      "sns.corrplot(rets, annot = False, diag_names = False)"
     ],
     "language": "python",
     "metadata": {},
     "outputs": [
      {
       "metadata": {},
       "output_type": "pyout",
       "prompt_number": 11,
       "text": [
        "<matplotlib.axes._subplots.AxesSubplot at 0x7f12b22dfe10>"
       ]
      },
      {
       "metadata": {},
       "output_type": "display_data",
       "png": "[encoded data removed]",
       "text": [
        "<matplotlib.figure.Figure at 0x7f12b22df650>"
       ]
      }
     ],
     "prompt_number": 11
    },
    {
     "cell_type": "code",
     "collapsed": false,
     "input": [
      "my_series = Series(list(\"asdlkjasdlkjasdlkjasdz\"))"
     ],
     "language": "python",
     "metadata": {},
     "outputs": [],
     "prompt_number": 14
    },
    {
     "cell_type": "code",
     "collapsed": false,
     "input": [
      "my_series"
     ],
     "language": "python",
     "metadata": {},
     "outputs": [
      {
       "metadata": {},
       "output_type": "pyout",
       "prompt_number": 15,
       "text": [
        "0     a\n",
        "1     s\n",
        "2     d\n",
        "3     l\n",
        "4     k\n",
        "5     j\n",
        "6     a\n",
        "7     s\n",
        "8     d\n",
        "9     l\n",
        "10    k\n",
        "11    j\n",
        "12    a\n",
        "13    s\n",
        "14    d\n",
        "15    l\n",
        "16    k\n",
        "17    j\n",
        "18    a\n",
        "19    s\n",
        "20    d\n",
        "21    z\n",
        "dtype: object"
       ]
      }
     ],
     "prompt_number": 15
    },
    {
     "cell_type": "code",
     "collapsed": false,
     "input": [
      "my_series.unique()"
     ],
     "language": "python",
     "metadata": {},
     "outputs": [
      {
       "metadata": {},
       "output_type": "pyout",
       "prompt_number": 16,
       "text": [
        "array(['a', 's', 'd', 'l', 'k', 'j', 'z'], dtype=object)"
       ]
      }
     ],
     "prompt_number": 16
    },
    {
     "cell_type": "code",
     "collapsed": false,
     "input": [
      "my_series.value_counts()"
     ],
     "language": "python",
     "metadata": {},
     "outputs": [
      {
       "metadata": {},
       "output_type": "pyout",
       "prompt_number": 18,
       "text": [
        "d    4\n",
        "s    4\n",
        "a    4\n",
        "l    3\n",
        "j    3\n",
        "k    3\n",
        "z    1\n",
        "dtype: int64"
       ]
      }
     ],
     "prompt_number": 18
    },
    {
     "cell_type": "code",
     "collapsed": false,
     "input": [],
     "language": "python",
     "metadata": {},
     "outputs": []
    }
   ],
   "metadata": {}
  }
 ]
}