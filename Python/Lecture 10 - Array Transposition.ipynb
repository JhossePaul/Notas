{
 "metadata": {
  "name": "",
  "signature": "sha256:154990281eb9dc9e14d3ff4406f34cb46159621d0ba44c4f9ec78f9531b58ec3"
 },
 "nbformat": 3,
 "nbformat_minor": 0,
 "worksheets": [
  {
   "cells": [
    {
     "cell_type": "code",
     "collapsed": false,
     "input": [
      "import numpy as np"
     ],
     "language": "python",
     "metadata": {},
     "outputs": [],
     "prompt_number": 1
    },
    {
     "cell_type": "code",
     "collapsed": false,
     "input": [
      "arr = np.arange(50).reshape([10, 5])"
     ],
     "language": "python",
     "metadata": {},
     "outputs": [],
     "prompt_number": 3
    },
    {
     "cell_type": "code",
     "collapsed": false,
     "input": [
      "arr.T"
     ],
     "language": "python",
     "metadata": {},
     "outputs": [
      {
       "metadata": {},
       "output_type": "pyout",
       "prompt_number": 4,
       "text": [
        "array([[ 0,  5, 10, 15, 20, 25, 30, 35, 40, 45],\n",
        "       [ 1,  6, 11, 16, 21, 26, 31, 36, 41, 46],\n",
        "       [ 2,  7, 12, 17, 22, 27, 32, 37, 42, 47],\n",
        "       [ 3,  8, 13, 18, 23, 28, 33, 38, 43, 48],\n",
        "       [ 4,  9, 14, 19, 24, 29, 34, 39, 44, 49]])"
       ]
      }
     ],
     "prompt_number": 4
    },
    {
     "cell_type": "code",
     "collapsed": false,
     "input": [
      "np.dot(arr.T, arr)"
     ],
     "language": "python",
     "metadata": {},
     "outputs": [
      {
       "metadata": {},
       "output_type": "pyout",
       "prompt_number": 5,
       "text": [
        "array([[7125, 7350, 7575, 7800, 8025],\n",
        "       [7350, 7585, 7820, 8055, 8290],\n",
        "       [7575, 7820, 8065, 8310, 8555],\n",
        "       [7800, 8055, 8310, 8565, 8820],\n",
        "       [8025, 8290, 8555, 8820, 9085]])"
       ]
      }
     ],
     "prompt_number": 5
    },
    {
     "cell_type": "code",
     "collapsed": false,
     "input": [
      "arr3d = np.arange(50).reshape(5, 5, 2)"
     ],
     "language": "python",
     "metadata": {},
     "outputs": [],
     "prompt_number": 6
    },
    {
     "cell_type": "code",
     "collapsed": false,
     "input": [
      "arr3d"
     ],
     "language": "python",
     "metadata": {},
     "outputs": [
      {
       "metadata": {},
       "output_type": "pyout",
       "prompt_number": 7,
       "text": [
        "array([[[ 0,  1],\n",
        "        [ 2,  3],\n",
        "        [ 4,  5],\n",
        "        [ 6,  7],\n",
        "        [ 8,  9]],\n",
        "\n",
        "       [[10, 11],\n",
        "        [12, 13],\n",
        "        [14, 15],\n",
        "        [16, 17],\n",
        "        [18, 19]],\n",
        "\n",
        "       [[20, 21],\n",
        "        [22, 23],\n",
        "        [24, 25],\n",
        "        [26, 27],\n",
        "        [28, 29]],\n",
        "\n",
        "       [[30, 31],\n",
        "        [32, 33],\n",
        "        [34, 35],\n",
        "        [36, 37],\n",
        "        [38, 39]],\n",
        "\n",
        "       [[40, 41],\n",
        "        [42, 43],\n",
        "        [44, 45],\n",
        "        [46, 47],\n",
        "        [48, 49]]])"
       ]
      }
     ],
     "prompt_number": 7
    },
    {
     "cell_type": "code",
     "collapsed": false,
     "input": [
      "arr3d.transpose([1, 0, 2])"
     ],
     "language": "python",
     "metadata": {},
     "outputs": [
      {
       "metadata": {},
       "output_type": "pyout",
       "prompt_number": 8,
       "text": [
        "array([[[ 0,  1],\n",
        "        [10, 11],\n",
        "        [20, 21],\n",
        "        [30, 31],\n",
        "        [40, 41]],\n",
        "\n",
        "       [[ 2,  3],\n",
        "        [12, 13],\n",
        "        [22, 23],\n",
        "        [32, 33],\n",
        "        [42, 43]],\n",
        "\n",
        "       [[ 4,  5],\n",
        "        [14, 15],\n",
        "        [24, 25],\n",
        "        [34, 35],\n",
        "        [44, 45]],\n",
        "\n",
        "       [[ 6,  7],\n",
        "        [16, 17],\n",
        "        [26, 27],\n",
        "        [36, 37],\n",
        "        [46, 47]],\n",
        "\n",
        "       [[ 8,  9],\n",
        "        [18, 19],\n",
        "        [28, 29],\n",
        "        [38, 39],\n",
        "        [48, 49]]])"
       ]
      }
     ],
     "prompt_number": 8
    },
    {
     "cell_type": "code",
     "collapsed": false,
     "input": [
      "arr = np.array([1, 2, 3])"
     ],
     "language": "python",
     "metadata": {},
     "outputs": [],
     "prompt_number": 14
    },
    {
     "cell_type": "code",
     "collapsed": false,
     "input": [
      "arr.swapaxes(0, 1)"
     ],
     "language": "python",
     "metadata": {},
     "outputs": [
      {
       "metadata": {},
       "output_type": "pyout",
       "prompt_number": 15,
       "text": [
        "array([1, 2, 3])"
       ]
      }
     ],
     "prompt_number": 15
    },
    {
     "cell_type": "code",
     "collapsed": false,
     "input": [
      "arr"
     ],
     "language": "python",
     "metadata": {},
     "outputs": [
      {
       "metadata": {},
       "output_type": "pyout",
       "prompt_number": 16,
       "text": [
        "array([1, 2, 3])"
       ]
      }
     ],
     "prompt_number": 16
    },
    {
     "cell_type": "code",
     "collapsed": false,
     "input": [
      "arr.swapaxes(1, 2)"
     ],
     "language": "python",
     "metadata": {},
     "outputs": [
      {
       "metadata": {},
       "output_type": "pyout",
       "prompt_number": 17,
       "text": [
        "array([1, 2, 3])"
       ]
      }
     ],
     "prompt_number": 17
    },
    {
     "cell_type": "code",
     "collapsed": false,
     "input": [
      ".arr3d.swapaxes(1, 2).T"
     ],
     "language": "python",
     "metadata": {},
     "outputs": [
      {
       "ename": "SyntaxError",
       "evalue": "invalid syntax (<ipython-input-23-323e5cffa32e>, line 1)",
       "output_type": "pyerr",
       "traceback": [
        "\u001b[0;36m  File \u001b[0;32m\"<ipython-input-23-323e5cffa32e>\"\u001b[0;36m, line \u001b[0;32m1\u001b[0m\n\u001b[0;31m    .arr3d.swapaxes(1, 2).T\u001b[0m\n\u001b[0m    ^\u001b[0m\n\u001b[0;31mSyntaxError\u001b[0m\u001b[0;31m:\u001b[0m invalid syntax\n"
       ]
      }
     ],
     "prompt_number": 23
    },
    {
     "cell_type": "code",
     "collapsed": false,
     "input": [],
     "language": "python",
     "metadata": {},
     "outputs": []
    }
   ],
   "metadata": {}
  }
 ]
}