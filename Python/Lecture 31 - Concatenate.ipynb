{
 "metadata": {
  "name": "",
  "signature": "sha256:06b167e6fcef0a5ab656636c6026107476d5dd811578d4968701c17de42c1a6d"
 },
 "nbformat": 3,
 "nbformat_minor": 0,
 "worksheets": [
  {
   "cells": [
    {
     "cell_type": "code",
     "collapsed": false,
     "input": [
      "import numpy as np\n",
      "import pandas as pd\n",
      "from pandas import Series, DataFrame"
     ],
     "language": "python",
     "metadata": {},
     "outputs": [],
     "prompt_number": 1
    },
    {
     "cell_type": "code",
     "collapsed": false,
     "input": [
      "arr1 = np.arange(9).reshape(3, 3)"
     ],
     "language": "python",
     "metadata": {},
     "outputs": [],
     "prompt_number": 3
    },
    {
     "cell_type": "code",
     "collapsed": false,
     "input": [
      "np.concatenate([arr1, arr1], axis = 1)"
     ],
     "language": "python",
     "metadata": {},
     "outputs": [
      {
       "metadata": {},
       "output_type": "pyout",
       "prompt_number": 5,
       "text": [
        "array([[0, 1, 2, 0, 1, 2],\n",
        "       [3, 4, 5, 3, 4, 5],\n",
        "       [6, 7, 8, 6, 7, 8]])"
       ]
      }
     ],
     "prompt_number": 5
    },
    {
     "cell_type": "code",
     "collapsed": false,
     "input": [
      "my_series = Series([0, 1, 2], index = [\"T\", \"U\", \"V\"])\n",
      "my_series_2 = Series([3, 4], index = [\"X\", \"Y\"])"
     ],
     "language": "python",
     "metadata": {},
     "outputs": [],
     "prompt_number": 8
    },
    {
     "cell_type": "code",
     "collapsed": false,
     "input": [
      "pd.concat([my_series, my_series_2], axis = 1)"
     ],
     "language": "python",
     "metadata": {},
     "outputs": [
      {
       "html": [
        "<div style=\"max-height:1000px;max-width:1500px;overflow:auto;\">\n",
        "<table border=\"1\" class=\"dataframe\">\n",
        "  <thead>\n",
        "    <tr style=\"text-align: right;\">\n",
        "      <th></th>\n",
        "      <th>0</th>\n",
        "      <th>1</th>\n",
        "    </tr>\n",
        "  </thead>\n",
        "  <tbody>\n",
        "    <tr>\n",
        "      <th>T</th>\n",
        "      <td>  0</td>\n",
        "      <td>NaN</td>\n",
        "    </tr>\n",
        "    <tr>\n",
        "      <th>U</th>\n",
        "      <td>  1</td>\n",
        "      <td>NaN</td>\n",
        "    </tr>\n",
        "    <tr>\n",
        "      <th>V</th>\n",
        "      <td>  2</td>\n",
        "      <td>NaN</td>\n",
        "    </tr>\n",
        "    <tr>\n",
        "      <th>X</th>\n",
        "      <td>NaN</td>\n",
        "      <td>  3</td>\n",
        "    </tr>\n",
        "    <tr>\n",
        "      <th>Y</th>\n",
        "      <td>NaN</td>\n",
        "      <td>  4</td>\n",
        "    </tr>\n",
        "  </tbody>\n",
        "</table>\n",
        "</div>"
       ],
       "metadata": {},
       "output_type": "pyout",
       "prompt_number": 14,
       "text": [
        "    0   1\n",
        "T   0 NaN\n",
        "U   1 NaN\n",
        "V   2 NaN\n",
        "X NaN   3\n",
        "Y NaN   4"
       ]
      }
     ],
     "prompt_number": 14
    },
    {
     "cell_type": "code",
     "collapsed": false,
     "input": [
      "pd.concat([my_series, my_series_2], axis = 0)"
     ],
     "language": "python",
     "metadata": {},
     "outputs": [
      {
       "metadata": {},
       "output_type": "pyout",
       "prompt_number": 12,
       "text": [
        "T    0\n",
        "U    1\n",
        "V    2\n",
        "X    3\n",
        "Y    4\n",
        "dtype: int64"
       ]
      }
     ],
     "prompt_number": 12
    },
    {
     "cell_type": "code",
     "collapsed": false,
     "input": [
      "pd.concat([my_series, my_series_2], keys = [\"cat1\", \"cat2\"])"
     ],
     "language": "python",
     "metadata": {},
     "outputs": [
      {
       "metadata": {},
       "output_type": "pyout",
       "prompt_number": 16,
       "text": [
        "cat1  T    0\n",
        "      U    1\n",
        "      V    2\n",
        "cat2  X    3\n",
        "      Y    4\n",
        "dtype: int64"
       ]
      }
     ],
     "prompt_number": 16
    },
    {
     "cell_type": "code",
     "collapsed": false,
     "input": [
      "df1 = DataFrame(np.random.randn(4, 3), columns = list(\"XYZ\"))\n",
      "df2 = DataFrame(np.random.randn(4, 3), columns = list(\"YQX\"))\n",
      "df1"
     ],
     "language": "python",
     "metadata": {},
     "outputs": [
      {
       "html": [
        "<div style=\"max-height:1000px;max-width:1500px;overflow:auto;\">\n",
        "<table border=\"1\" class=\"dataframe\">\n",
        "  <thead>\n",
        "    <tr style=\"text-align: right;\">\n",
        "      <th></th>\n",
        "      <th>X</th>\n",
        "      <th>Y</th>\n",
        "      <th>Z</th>\n",
        "    </tr>\n",
        "  </thead>\n",
        "  <tbody>\n",
        "    <tr>\n",
        "      <th>0</th>\n",
        "      <td>-0.318659</td>\n",
        "      <td> 1.008070</td>\n",
        "      <td>-0.676937</td>\n",
        "    </tr>\n",
        "    <tr>\n",
        "      <th>1</th>\n",
        "      <td> 1.488759</td>\n",
        "      <td> 1.569636</td>\n",
        "      <td>-0.716931</td>\n",
        "    </tr>\n",
        "    <tr>\n",
        "      <th>2</th>\n",
        "      <td> 0.297129</td>\n",
        "      <td>-0.487299</td>\n",
        "      <td>-0.460843</td>\n",
        "    </tr>\n",
        "    <tr>\n",
        "      <th>3</th>\n",
        "      <td>-0.557658</td>\n",
        "      <td> 2.281414</td>\n",
        "      <td>-1.247481</td>\n",
        "    </tr>\n",
        "  </tbody>\n",
        "</table>\n",
        "</div>"
       ],
       "metadata": {},
       "output_type": "pyout",
       "prompt_number": 20,
       "text": [
        "          X         Y         Z\n",
        "0 -0.318659  1.008070 -0.676937\n",
        "1  1.488759  1.569636 -0.716931\n",
        "2  0.297129 -0.487299 -0.460843\n",
        "3 -0.557658  2.281414 -1.247481"
       ]
      }
     ],
     "prompt_number": 20
    },
    {
     "cell_type": "code",
     "collapsed": false,
     "input": [
      "df2"
     ],
     "language": "python",
     "metadata": {},
     "outputs": [
      {
       "html": [
        "<div style=\"max-height:1000px;max-width:1500px;overflow:auto;\">\n",
        "<table border=\"1\" class=\"dataframe\">\n",
        "  <thead>\n",
        "    <tr style=\"text-align: right;\">\n",
        "      <th></th>\n",
        "      <th>Y</th>\n",
        "      <th>Q</th>\n",
        "      <th>X</th>\n",
        "    </tr>\n",
        "  </thead>\n",
        "  <tbody>\n",
        "    <tr>\n",
        "      <th>0</th>\n",
        "      <td> 1.257797</td>\n",
        "      <td> 0.254159</td>\n",
        "      <td> 0.995821</td>\n",
        "    </tr>\n",
        "    <tr>\n",
        "      <th>1</th>\n",
        "      <td>-0.613180</td>\n",
        "      <td> 1.085937</td>\n",
        "      <td> 0.263354</td>\n",
        "    </tr>\n",
        "    <tr>\n",
        "      <th>2</th>\n",
        "      <td> 0.270685</td>\n",
        "      <td>-0.159740</td>\n",
        "      <td> 0.259762</td>\n",
        "    </tr>\n",
        "    <tr>\n",
        "      <th>3</th>\n",
        "      <td>-1.784461</td>\n",
        "      <td> 0.237395</td>\n",
        "      <td>-0.861088</td>\n",
        "    </tr>\n",
        "  </tbody>\n",
        "</table>\n",
        "</div>"
       ],
       "metadata": {},
       "output_type": "pyout",
       "prompt_number": 21,
       "text": [
        "          Y         Q         X\n",
        "0  1.257797  0.254159  0.995821\n",
        "1 -0.613180  1.085937  0.263354\n",
        "2  0.270685 -0.159740  0.259762\n",
        "3 -1.784461  0.237395 -0.861088"
       ]
      }
     ],
     "prompt_number": 21
    },
    {
     "cell_type": "code",
     "collapsed": false,
     "input": [
      "pd.concat([df1, df2])"
     ],
     "language": "python",
     "metadata": {},
     "outputs": [
      {
       "html": [
        "<div style=\"max-height:1000px;max-width:1500px;overflow:auto;\">\n",
        "<table border=\"1\" class=\"dataframe\">\n",
        "  <thead>\n",
        "    <tr style=\"text-align: right;\">\n",
        "      <th></th>\n",
        "      <th>Q</th>\n",
        "      <th>X</th>\n",
        "      <th>Y</th>\n",
        "      <th>Z</th>\n",
        "    </tr>\n",
        "  </thead>\n",
        "  <tbody>\n",
        "    <tr>\n",
        "      <th>0</th>\n",
        "      <td>      NaN</td>\n",
        "      <td>-0.318659</td>\n",
        "      <td> 1.008070</td>\n",
        "      <td>-0.676937</td>\n",
        "    </tr>\n",
        "    <tr>\n",
        "      <th>1</th>\n",
        "      <td>      NaN</td>\n",
        "      <td> 1.488759</td>\n",
        "      <td> 1.569636</td>\n",
        "      <td>-0.716931</td>\n",
        "    </tr>\n",
        "    <tr>\n",
        "      <th>2</th>\n",
        "      <td>      NaN</td>\n",
        "      <td> 0.297129</td>\n",
        "      <td>-0.487299</td>\n",
        "      <td>-0.460843</td>\n",
        "    </tr>\n",
        "    <tr>\n",
        "      <th>3</th>\n",
        "      <td>      NaN</td>\n",
        "      <td>-0.557658</td>\n",
        "      <td> 2.281414</td>\n",
        "      <td>-1.247481</td>\n",
        "    </tr>\n",
        "    <tr>\n",
        "      <th>0</th>\n",
        "      <td> 0.254159</td>\n",
        "      <td> 0.995821</td>\n",
        "      <td> 1.257797</td>\n",
        "      <td>      NaN</td>\n",
        "    </tr>\n",
        "    <tr>\n",
        "      <th>1</th>\n",
        "      <td> 1.085937</td>\n",
        "      <td> 0.263354</td>\n",
        "      <td>-0.613180</td>\n",
        "      <td>      NaN</td>\n",
        "    </tr>\n",
        "    <tr>\n",
        "      <th>2</th>\n",
        "      <td>-0.159740</td>\n",
        "      <td> 0.259762</td>\n",
        "      <td> 0.270685</td>\n",
        "      <td>      NaN</td>\n",
        "    </tr>\n",
        "    <tr>\n",
        "      <th>3</th>\n",
        "      <td> 0.237395</td>\n",
        "      <td>-0.861088</td>\n",
        "      <td>-1.784461</td>\n",
        "      <td>      NaN</td>\n",
        "    </tr>\n",
        "  </tbody>\n",
        "</table>\n",
        "</div>"
       ],
       "metadata": {},
       "output_type": "pyout",
       "prompt_number": 23,
       "text": [
        "          Q         X         Y         Z\n",
        "0       NaN -0.318659  1.008070 -0.676937\n",
        "1       NaN  1.488759  1.569636 -0.716931\n",
        "2       NaN  0.297129 -0.487299 -0.460843\n",
        "3       NaN -0.557658  2.281414 -1.247481\n",
        "0  0.254159  0.995821  1.257797       NaN\n",
        "1  1.085937  0.263354 -0.613180       NaN\n",
        "2 -0.159740  0.259762  0.270685       NaN\n",
        "3  0.237395 -0.861088 -1.784461       NaN"
       ]
      }
     ],
     "prompt_number": 23
    },
    {
     "cell_type": "code",
     "collapsed": false,
     "input": [
      "pd.concat([df1, df2], ignore_index = True)"
     ],
     "language": "python",
     "metadata": {},
     "outputs": [
      {
       "html": [
        "<div style=\"max-height:1000px;max-width:1500px;overflow:auto;\">\n",
        "<table border=\"1\" class=\"dataframe\">\n",
        "  <thead>\n",
        "    <tr style=\"text-align: right;\">\n",
        "      <th></th>\n",
        "      <th>Q</th>\n",
        "      <th>X</th>\n",
        "      <th>Y</th>\n",
        "      <th>Z</th>\n",
        "    </tr>\n",
        "  </thead>\n",
        "  <tbody>\n",
        "    <tr>\n",
        "      <th>0</th>\n",
        "      <td>      NaN</td>\n",
        "      <td>-0.318659</td>\n",
        "      <td> 1.008070</td>\n",
        "      <td>-0.676937</td>\n",
        "    </tr>\n",
        "    <tr>\n",
        "      <th>1</th>\n",
        "      <td>      NaN</td>\n",
        "      <td> 1.488759</td>\n",
        "      <td> 1.569636</td>\n",
        "      <td>-0.716931</td>\n",
        "    </tr>\n",
        "    <tr>\n",
        "      <th>2</th>\n",
        "      <td>      NaN</td>\n",
        "      <td> 0.297129</td>\n",
        "      <td>-0.487299</td>\n",
        "      <td>-0.460843</td>\n",
        "    </tr>\n",
        "    <tr>\n",
        "      <th>3</th>\n",
        "      <td>      NaN</td>\n",
        "      <td>-0.557658</td>\n",
        "      <td> 2.281414</td>\n",
        "      <td>-1.247481</td>\n",
        "    </tr>\n",
        "    <tr>\n",
        "      <th>4</th>\n",
        "      <td> 0.254159</td>\n",
        "      <td> 0.995821</td>\n",
        "      <td> 1.257797</td>\n",
        "      <td>      NaN</td>\n",
        "    </tr>\n",
        "    <tr>\n",
        "      <th>5</th>\n",
        "      <td> 1.085937</td>\n",
        "      <td> 0.263354</td>\n",
        "      <td>-0.613180</td>\n",
        "      <td>      NaN</td>\n",
        "    </tr>\n",
        "    <tr>\n",
        "      <th>6</th>\n",
        "      <td>-0.159740</td>\n",
        "      <td> 0.259762</td>\n",
        "      <td> 0.270685</td>\n",
        "      <td>      NaN</td>\n",
        "    </tr>\n",
        "    <tr>\n",
        "      <th>7</th>\n",
        "      <td> 0.237395</td>\n",
        "      <td>-0.861088</td>\n",
        "      <td>-1.784461</td>\n",
        "      <td>      NaN</td>\n",
        "    </tr>\n",
        "  </tbody>\n",
        "</table>\n",
        "</div>"
       ],
       "metadata": {},
       "output_type": "pyout",
       "prompt_number": 24,
       "text": [
        "          Q         X         Y         Z\n",
        "0       NaN -0.318659  1.008070 -0.676937\n",
        "1       NaN  1.488759  1.569636 -0.716931\n",
        "2       NaN  0.297129 -0.487299 -0.460843\n",
        "3       NaN -0.557658  2.281414 -1.247481\n",
        "4  0.254159  0.995821  1.257797       NaN\n",
        "5  1.085937  0.263354 -0.613180       NaN\n",
        "6 -0.159740  0.259762  0.270685       NaN\n",
        "7  0.237395 -0.861088 -1.784461       NaN"
       ]
      }
     ],
     "prompt_number": 24
    },
    {
     "cell_type": "code",
     "collapsed": false,
     "input": [],
     "language": "python",
     "metadata": {},
     "outputs": []
    }
   ],
   "metadata": {}
  }
 ]
}