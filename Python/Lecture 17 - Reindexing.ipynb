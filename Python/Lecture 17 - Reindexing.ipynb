{
 "metadata": {
  "name": "",
  "signature": "sha256:1520528fbbf03c16946589232d2371183b5d39c2ea32f84930c57c04d207fd67"
 },
 "nbformat": 3,
 "nbformat_minor": 0,
 "worksheets": [
  {
   "cells": [
    {
     "cell_type": "code",
     "collapsed": false,
     "input": [
      "import numpy as np\n",
      "import pandas as pd\n",
      "from pandas import Series, DataFrame\n",
      "from numpy.random import randn"
     ],
     "language": "python",
     "metadata": {},
     "outputs": [],
     "prompt_number": 2
    },
    {
     "cell_type": "code",
     "collapsed": false,
     "input": [
      "ser1 = Series([1, 2, 3, 4], index = [\"A\", \"B\", \"C\", \"D\"])\n",
      "ser1"
     ],
     "language": "python",
     "metadata": {},
     "outputs": [
      {
       "metadata": {},
       "output_type": "pyout",
       "prompt_number": 4,
       "text": [
        "A    1\n",
        "B    2\n",
        "C    3\n",
        "D    4\n",
        "dtype: int64"
       ]
      }
     ],
     "prompt_number": 4
    },
    {
     "cell_type": "code",
     "collapsed": false,
     "input": [
      "ser2 = ser1.reindex([\"A\", \"B\", \"C\", \"D\", \"E\", \"F\"])\n",
      "ser2"
     ],
     "language": "python",
     "metadata": {},
     "outputs": [
      {
       "metadata": {},
       "output_type": "pyout",
       "prompt_number": 6,
       "text": [
        "A     1\n",
        "B     2\n",
        "C     3\n",
        "D     4\n",
        "E   NaN\n",
        "F   NaN\n",
        "dtype: float64"
       ]
      }
     ],
     "prompt_number": 6
    },
    {
     "cell_type": "code",
     "collapsed": false,
     "input": [
      "ser2.reindex([\"A\", \"B\", \"C\", \"D\", \"E\", \"F\",\"G\"], fill_value = 0)"
     ],
     "language": "python",
     "metadata": {},
     "outputs": [
      {
       "metadata": {},
       "output_type": "pyout",
       "prompt_number": 7,
       "text": [
        "A     1\n",
        "B     2\n",
        "C     3\n",
        "D     4\n",
        "E   NaN\n",
        "F   NaN\n",
        "G     0\n",
        "dtype: float64"
       ]
      }
     ],
     "prompt_number": 7
    },
    {
     "cell_type": "code",
     "collapsed": false,
     "input": [
      "ser3 = Series([\"USA\", \"Mexico\", \"Canada\"], index = [0, 5, 10])\n",
      "ser3"
     ],
     "language": "python",
     "metadata": {},
     "outputs": [
      {
       "metadata": {},
       "output_type": "pyout",
       "prompt_number": 12,
       "text": [
        "0        USA\n",
        "5     Mexico\n",
        "10    Canada\n",
        "dtype: object"
       ]
      }
     ],
     "prompt_number": 12
    },
    {
     "cell_type": "code",
     "collapsed": false,
     "input": [
      "ranger = range(15); ranger"
     ],
     "language": "python",
     "metadata": {},
     "outputs": [
      {
       "metadata": {},
       "output_type": "pyout",
       "prompt_number": 14,
       "text": [
        "[0, 1, 2, 3, 4, 5, 6, 7, 8, 9, 10, 11, 12, 13, 14]"
       ]
      }
     ],
     "prompt_number": 14
    },
    {
     "cell_type": "code",
     "collapsed": false,
     "input": [
      "# Forward fill para rellenar, revisar la documentaci\u00f3n para\n",
      "# analizar m\u00e1s m\u00e9todos\n",
      "ser3.reindex(ranger, method = \"ffill\")"
     ],
     "language": "python",
     "metadata": {},
     "outputs": [
      {
       "metadata": {},
       "output_type": "pyout",
       "prompt_number": 16,
       "text": [
        "0        USA\n",
        "1        USA\n",
        "2        USA\n",
        "3        USA\n",
        "4        USA\n",
        "5     Mexico\n",
        "6     Mexico\n",
        "7     Mexico\n",
        "8     Mexico\n",
        "9     Mexico\n",
        "10    Canada\n",
        "11    Canada\n",
        "12    Canada\n",
        "13    Canada\n",
        "14    Canada\n",
        "dtype: object"
       ]
      }
     ],
     "prompt_number": 16
    },
    {
     "cell_type": "code",
     "collapsed": false,
     "input": [
      "dframe = DataFrame(randn(25).reshape((5, 5)),\n",
      "                   index = [\"A\", \"B\", \"D\", \"E\", \"F\"],\n",
      "                   columns = [\"col1\", \"col2\", \"col3\", \"col4\", \"col5\"]);\n",
      "dframe"
     ],
     "language": "python",
     "metadata": {},
     "outputs": [
      {
       "html": [
        "<div style=\"max-height:1000px;max-width:1500px;overflow:auto;\">\n",
        "<table border=\"1\" class=\"dataframe\">\n",
        "  <thead>\n",
        "    <tr style=\"text-align: right;\">\n",
        "      <th></th>\n",
        "      <th>col1</th>\n",
        "      <th>col2</th>\n",
        "      <th>col3</th>\n",
        "      <th>col4</th>\n",
        "      <th>col5</th>\n",
        "    </tr>\n",
        "  </thead>\n",
        "  <tbody>\n",
        "    <tr>\n",
        "      <th>A</th>\n",
        "      <td>-0.606922</td>\n",
        "      <td> 0.542286</td>\n",
        "      <td>-1.585041</td>\n",
        "      <td>-0.306990</td>\n",
        "      <td> 0.722776</td>\n",
        "    </tr>\n",
        "    <tr>\n",
        "      <th>B</th>\n",
        "      <td>-0.174400</td>\n",
        "      <td> 0.955823</td>\n",
        "      <td> 0.642609</td>\n",
        "      <td>-0.055522</td>\n",
        "      <td> 0.774261</td>\n",
        "    </tr>\n",
        "    <tr>\n",
        "      <th>D</th>\n",
        "      <td> 0.954948</td>\n",
        "      <td>-0.513780</td>\n",
        "      <td>-0.737180</td>\n",
        "      <td> 0.086292</td>\n",
        "      <td> 0.278622</td>\n",
        "    </tr>\n",
        "    <tr>\n",
        "      <th>E</th>\n",
        "      <td>-0.715349</td>\n",
        "      <td> 1.066096</td>\n",
        "      <td> 0.307045</td>\n",
        "      <td> 0.486762</td>\n",
        "      <td> 0.563906</td>\n",
        "    </tr>\n",
        "    <tr>\n",
        "      <th>F</th>\n",
        "      <td>-0.263938</td>\n",
        "      <td> 0.171804</td>\n",
        "      <td>-0.330348</td>\n",
        "      <td> 1.606166</td>\n",
        "      <td>-0.491181</td>\n",
        "    </tr>\n",
        "  </tbody>\n",
        "</table>\n",
        "</div>"
       ],
       "metadata": {},
       "output_type": "pyout",
       "prompt_number": 20,
       "text": [
        "       col1      col2      col3      col4      col5\n",
        "A -0.606922  0.542286 -1.585041 -0.306990  0.722776\n",
        "B -0.174400  0.955823  0.642609 -0.055522  0.774261\n",
        "D  0.954948 -0.513780 -0.737180  0.086292  0.278622\n",
        "E -0.715349  1.066096  0.307045  0.486762  0.563906\n",
        "F -0.263938  0.171804 -0.330348  1.606166 -0.491181"
       ]
      }
     ],
     "prompt_number": 20
    },
    {
     "cell_type": "code",
     "collapsed": false,
     "input": [
      "dframe2 = dframe.reindex([\"A\", \"B\", \"C\", \"D\", \"E\", \"F\"]);\n",
      "dframe2"
     ],
     "language": "python",
     "metadata": {},
     "outputs": [
      {
       "html": [
        "<div style=\"max-height:1000px;max-width:1500px;overflow:auto;\">\n",
        "<table border=\"1\" class=\"dataframe\">\n",
        "  <thead>\n",
        "    <tr style=\"text-align: right;\">\n",
        "      <th></th>\n",
        "      <th>col1</th>\n",
        "      <th>col2</th>\n",
        "      <th>col3</th>\n",
        "      <th>col4</th>\n",
        "      <th>col5</th>\n",
        "    </tr>\n",
        "  </thead>\n",
        "  <tbody>\n",
        "    <tr>\n",
        "      <th>A</th>\n",
        "      <td>-0.606922</td>\n",
        "      <td> 0.542286</td>\n",
        "      <td>-1.585041</td>\n",
        "      <td>-0.306990</td>\n",
        "      <td> 0.722776</td>\n",
        "    </tr>\n",
        "    <tr>\n",
        "      <th>B</th>\n",
        "      <td>-0.174400</td>\n",
        "      <td> 0.955823</td>\n",
        "      <td> 0.642609</td>\n",
        "      <td>-0.055522</td>\n",
        "      <td> 0.774261</td>\n",
        "    </tr>\n",
        "    <tr>\n",
        "      <th>C</th>\n",
        "      <td>      NaN</td>\n",
        "      <td>      NaN</td>\n",
        "      <td>      NaN</td>\n",
        "      <td>      NaN</td>\n",
        "      <td>      NaN</td>\n",
        "    </tr>\n",
        "    <tr>\n",
        "      <th>D</th>\n",
        "      <td> 0.954948</td>\n",
        "      <td>-0.513780</td>\n",
        "      <td>-0.737180</td>\n",
        "      <td> 0.086292</td>\n",
        "      <td> 0.278622</td>\n",
        "    </tr>\n",
        "    <tr>\n",
        "      <th>E</th>\n",
        "      <td>-0.715349</td>\n",
        "      <td> 1.066096</td>\n",
        "      <td> 0.307045</td>\n",
        "      <td> 0.486762</td>\n",
        "      <td> 0.563906</td>\n",
        "    </tr>\n",
        "    <tr>\n",
        "      <th>F</th>\n",
        "      <td>-0.263938</td>\n",
        "      <td> 0.171804</td>\n",
        "      <td>-0.330348</td>\n",
        "      <td> 1.606166</td>\n",
        "      <td>-0.491181</td>\n",
        "    </tr>\n",
        "  </tbody>\n",
        "</table>\n",
        "</div>"
       ],
       "metadata": {},
       "output_type": "pyout",
       "prompt_number": 24,
       "text": [
        "       col1      col2      col3      col4      col5\n",
        "A -0.606922  0.542286 -1.585041 -0.306990  0.722776\n",
        "B -0.174400  0.955823  0.642609 -0.055522  0.774261\n",
        "C       NaN       NaN       NaN       NaN       NaN\n",
        "D  0.954948 -0.513780 -0.737180  0.086292  0.278622\n",
        "E -0.715349  1.066096  0.307045  0.486762  0.563906\n",
        "F -0.263938  0.171804 -0.330348  1.606166 -0.491181"
       ]
      }
     ],
     "prompt_number": 24
    },
    {
     "cell_type": "code",
     "collapsed": false,
     "input": [
      "new_columns = [\"col1\", \"col2\", \"col3\", \"col4\", \"col5\", \"col6\"]\n",
      "dframe2.reindex(columns = new_columns)"
     ],
     "language": "python",
     "metadata": {},
     "outputs": [
      {
       "html": [
        "<div style=\"max-height:1000px;max-width:1500px;overflow:auto;\">\n",
        "<table border=\"1\" class=\"dataframe\">\n",
        "  <thead>\n",
        "    <tr style=\"text-align: right;\">\n",
        "      <th></th>\n",
        "      <th>col1</th>\n",
        "      <th>col2</th>\n",
        "      <th>col3</th>\n",
        "      <th>col4</th>\n",
        "      <th>col5</th>\n",
        "      <th>col6</th>\n",
        "    </tr>\n",
        "  </thead>\n",
        "  <tbody>\n",
        "    <tr>\n",
        "      <th>A</th>\n",
        "      <td>-0.606922</td>\n",
        "      <td> 0.542286</td>\n",
        "      <td>-1.585041</td>\n",
        "      <td>-0.306990</td>\n",
        "      <td> 0.722776</td>\n",
        "      <td>NaN</td>\n",
        "    </tr>\n",
        "    <tr>\n",
        "      <th>B</th>\n",
        "      <td>-0.174400</td>\n",
        "      <td> 0.955823</td>\n",
        "      <td> 0.642609</td>\n",
        "      <td>-0.055522</td>\n",
        "      <td> 0.774261</td>\n",
        "      <td>NaN</td>\n",
        "    </tr>\n",
        "    <tr>\n",
        "      <th>C</th>\n",
        "      <td>      NaN</td>\n",
        "      <td>      NaN</td>\n",
        "      <td>      NaN</td>\n",
        "      <td>      NaN</td>\n",
        "      <td>      NaN</td>\n",
        "      <td>NaN</td>\n",
        "    </tr>\n",
        "    <tr>\n",
        "      <th>D</th>\n",
        "      <td> 0.954948</td>\n",
        "      <td>-0.513780</td>\n",
        "      <td>-0.737180</td>\n",
        "      <td> 0.086292</td>\n",
        "      <td> 0.278622</td>\n",
        "      <td>NaN</td>\n",
        "    </tr>\n",
        "    <tr>\n",
        "      <th>E</th>\n",
        "      <td>-0.715349</td>\n",
        "      <td> 1.066096</td>\n",
        "      <td> 0.307045</td>\n",
        "      <td> 0.486762</td>\n",
        "      <td> 0.563906</td>\n",
        "      <td>NaN</td>\n",
        "    </tr>\n",
        "    <tr>\n",
        "      <th>F</th>\n",
        "      <td>-0.263938</td>\n",
        "      <td> 0.171804</td>\n",
        "      <td>-0.330348</td>\n",
        "      <td> 1.606166</td>\n",
        "      <td>-0.491181</td>\n",
        "      <td>NaN</td>\n",
        "    </tr>\n",
        "  </tbody>\n",
        "</table>\n",
        "</div>"
       ],
       "metadata": {},
       "output_type": "pyout",
       "prompt_number": 26,
       "text": [
        "       col1      col2      col3      col4      col5  col6\n",
        "A -0.606922  0.542286 -1.585041 -0.306990  0.722776   NaN\n",
        "B -0.174400  0.955823  0.642609 -0.055522  0.774261   NaN\n",
        "C       NaN       NaN       NaN       NaN       NaN   NaN\n",
        "D  0.954948 -0.513780 -0.737180  0.086292  0.278622   NaN\n",
        "E -0.715349  1.066096  0.307045  0.486762  0.563906   NaN\n",
        "F -0.263938  0.171804 -0.330348  1.606166 -0.491181   NaN"
       ]
      }
     ],
     "prompt_number": 26
    },
    {
     "cell_type": "code",
     "collapsed": false,
     "input": [
      "dframe"
     ],
     "language": "python",
     "metadata": {},
     "outputs": [
      {
       "html": [
        "<div style=\"max-height:1000px;max-width:1500px;overflow:auto;\">\n",
        "<table border=\"1\" class=\"dataframe\">\n",
        "  <thead>\n",
        "    <tr style=\"text-align: right;\">\n",
        "      <th></th>\n",
        "      <th>col1</th>\n",
        "      <th>col2</th>\n",
        "      <th>col3</th>\n",
        "      <th>col4</th>\n",
        "      <th>col5</th>\n",
        "    </tr>\n",
        "  </thead>\n",
        "  <tbody>\n",
        "    <tr>\n",
        "      <th>A</th>\n",
        "      <td>-0.606922</td>\n",
        "      <td> 0.542286</td>\n",
        "      <td>-1.585041</td>\n",
        "      <td>-0.306990</td>\n",
        "      <td> 0.722776</td>\n",
        "    </tr>\n",
        "    <tr>\n",
        "      <th>B</th>\n",
        "      <td>-0.174400</td>\n",
        "      <td> 0.955823</td>\n",
        "      <td> 0.642609</td>\n",
        "      <td>-0.055522</td>\n",
        "      <td> 0.774261</td>\n",
        "    </tr>\n",
        "    <tr>\n",
        "      <th>D</th>\n",
        "      <td> 0.954948</td>\n",
        "      <td>-0.513780</td>\n",
        "      <td>-0.737180</td>\n",
        "      <td> 0.086292</td>\n",
        "      <td> 0.278622</td>\n",
        "    </tr>\n",
        "    <tr>\n",
        "      <th>E</th>\n",
        "      <td>-0.715349</td>\n",
        "      <td> 1.066096</td>\n",
        "      <td> 0.307045</td>\n",
        "      <td> 0.486762</td>\n",
        "      <td> 0.563906</td>\n",
        "    </tr>\n",
        "    <tr>\n",
        "      <th>F</th>\n",
        "      <td>-0.263938</td>\n",
        "      <td> 0.171804</td>\n",
        "      <td>-0.330348</td>\n",
        "      <td> 1.606166</td>\n",
        "      <td>-0.491181</td>\n",
        "    </tr>\n",
        "  </tbody>\n",
        "</table>\n",
        "</div>"
       ],
       "metadata": {},
       "output_type": "pyout",
       "prompt_number": 27,
       "text": [
        "       col1      col2      col3      col4      col5\n",
        "A -0.606922  0.542286 -1.585041 -0.306990  0.722776\n",
        "B -0.174400  0.955823  0.642609 -0.055522  0.774261\n",
        "D  0.954948 -0.513780 -0.737180  0.086292  0.278622\n",
        "E -0.715349  1.066096  0.307045  0.486762  0.563906\n",
        "F -0.263938  0.171804 -0.330348  1.606166 -0.491181"
       ]
      }
     ],
     "prompt_number": 27
    },
    {
     "cell_type": "code",
     "collapsed": false,
     "input": [
      "dframe.ix[[\"A\", \"B\", \"C\", \"D\", \"E\", \"F\"], new_columns]"
     ],
     "language": "python",
     "metadata": {},
     "outputs": [
      {
       "html": [
        "<div style=\"max-height:1000px;max-width:1500px;overflow:auto;\">\n",
        "<table border=\"1\" class=\"dataframe\">\n",
        "  <thead>\n",
        "    <tr style=\"text-align: right;\">\n",
        "      <th></th>\n",
        "      <th>col1</th>\n",
        "      <th>col2</th>\n",
        "      <th>col3</th>\n",
        "      <th>col4</th>\n",
        "      <th>col5</th>\n",
        "      <th>col6</th>\n",
        "    </tr>\n",
        "  </thead>\n",
        "  <tbody>\n",
        "    <tr>\n",
        "      <th>A</th>\n",
        "      <td>-0.606922</td>\n",
        "      <td> 0.542286</td>\n",
        "      <td>-1.585041</td>\n",
        "      <td>-0.306990</td>\n",
        "      <td> 0.722776</td>\n",
        "      <td>NaN</td>\n",
        "    </tr>\n",
        "    <tr>\n",
        "      <th>B</th>\n",
        "      <td>-0.174400</td>\n",
        "      <td> 0.955823</td>\n",
        "      <td> 0.642609</td>\n",
        "      <td>-0.055522</td>\n",
        "      <td> 0.774261</td>\n",
        "      <td>NaN</td>\n",
        "    </tr>\n",
        "    <tr>\n",
        "      <th>C</th>\n",
        "      <td>      NaN</td>\n",
        "      <td>      NaN</td>\n",
        "      <td>      NaN</td>\n",
        "      <td>      NaN</td>\n",
        "      <td>      NaN</td>\n",
        "      <td>NaN</td>\n",
        "    </tr>\n",
        "    <tr>\n",
        "      <th>D</th>\n",
        "      <td> 0.954948</td>\n",
        "      <td>-0.513780</td>\n",
        "      <td>-0.737180</td>\n",
        "      <td> 0.086292</td>\n",
        "      <td> 0.278622</td>\n",
        "      <td>NaN</td>\n",
        "    </tr>\n",
        "    <tr>\n",
        "      <th>E</th>\n",
        "      <td>-0.715349</td>\n",
        "      <td> 1.066096</td>\n",
        "      <td> 0.307045</td>\n",
        "      <td> 0.486762</td>\n",
        "      <td> 0.563906</td>\n",
        "      <td>NaN</td>\n",
        "    </tr>\n",
        "    <tr>\n",
        "      <th>F</th>\n",
        "      <td>-0.263938</td>\n",
        "      <td> 0.171804</td>\n",
        "      <td>-0.330348</td>\n",
        "      <td> 1.606166</td>\n",
        "      <td>-0.491181</td>\n",
        "      <td>NaN</td>\n",
        "    </tr>\n",
        "  </tbody>\n",
        "</table>\n",
        "</div>"
       ],
       "metadata": {},
       "output_type": "pyout",
       "prompt_number": 33,
       "text": [
        "       col1      col2      col3      col4      col5  col6\n",
        "A -0.606922  0.542286 -1.585041 -0.306990  0.722776   NaN\n",
        "B -0.174400  0.955823  0.642609 -0.055522  0.774261   NaN\n",
        "C       NaN       NaN       NaN       NaN       NaN   NaN\n",
        "D  0.954948 -0.513780 -0.737180  0.086292  0.278622   NaN\n",
        "E -0.715349  1.066096  0.307045  0.486762  0.563906   NaN\n",
        "F -0.263938  0.171804 -0.330348  1.606166 -0.491181   NaN"
       ]
      }
     ],
     "prompt_number": 33
    },
    {
     "cell_type": "code",
     "collapsed": false,
     "input": [],
     "language": "python",
     "metadata": {},
     "outputs": []
    }
   ],
   "metadata": {}
  }
 ]
}