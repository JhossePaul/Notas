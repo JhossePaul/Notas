{
 "metadata": {
  "name": "",
  "signature": "sha256:44abd899fb4edd85e2ebb11290e6fa7db6a0e5b05ed6e86a5dbb361337ab8db5"
 },
 "nbformat": 3,
 "nbformat_minor": 0,
 "worksheets": [
  {
   "cells": [
    {
     "cell_type": "code",
     "collapsed": false,
     "input": [
      "import numpy as np\n",
      "import pandas as pd\n",
      "from pandas import Series, DataFrame"
     ],
     "language": "python",
     "metadata": {},
     "outputs": [],
     "prompt_number": 1
    },
    {
     "cell_type": "code",
     "collapsed": false,
     "input": [
      "my_series = Series([1, 2, 3, 4, 1, 2, 3, 4])\n",
      "my_series"
     ],
     "language": "python",
     "metadata": {},
     "outputs": [
      {
       "metadata": {},
       "output_type": "pyout",
       "prompt_number": 2,
       "text": [
        "0    1\n",
        "1    2\n",
        "2    3\n",
        "3    4\n",
        "4    1\n",
        "5    2\n",
        "6    3\n",
        "7    4\n",
        "dtype: int64"
       ]
      }
     ],
     "prompt_number": 2
    },
    {
     "cell_type": "code",
     "collapsed": false,
     "input": [
      "my_series.replace(1, np.nan)"
     ],
     "language": "python",
     "metadata": {},
     "outputs": [
      {
       "metadata": {},
       "output_type": "pyout",
       "prompt_number": 3,
       "text": [
        "0   NaN\n",
        "1     2\n",
        "2     3\n",
        "3     4\n",
        "4   NaN\n",
        "5     2\n",
        "6     3\n",
        "7     4\n",
        "dtype: float64"
       ]
      }
     ],
     "prompt_number": 3
    },
    {
     "cell_type": "code",
     "collapsed": false,
     "input": [
      "my_series.replace([1, 4], [100, 400])"
     ],
     "language": "python",
     "metadata": {},
     "outputs": [
      {
       "metadata": {},
       "output_type": "pyout",
       "prompt_number": 5,
       "text": [
        "0    100\n",
        "1      2\n",
        "2      3\n",
        "3    400\n",
        "4    100\n",
        "5      2\n",
        "6      3\n",
        "7    400\n",
        "dtype: int64"
       ]
      }
     ],
     "prompt_number": 5
    },
    {
     "cell_type": "code",
     "collapsed": false,
     "input": [
      "my_series.replace({4: np.nan})"
     ],
     "language": "python",
     "metadata": {},
     "outputs": [
      {
       "metadata": {},
       "output_type": "pyout",
       "prompt_number": 8,
       "text": [
        "0     1\n",
        "1     2\n",
        "2     3\n",
        "3   NaN\n",
        "4     1\n",
        "5     2\n",
        "6     3\n",
        "7   NaN\n",
        "dtype: float64"
       ]
      }
     ],
     "prompt_number": 8
    },
    {
     "cell_type": "code",
     "collapsed": false,
     "input": [],
     "language": "python",
     "metadata": {},
     "outputs": []
    }
   ],
   "metadata": {}
  }
 ]
}